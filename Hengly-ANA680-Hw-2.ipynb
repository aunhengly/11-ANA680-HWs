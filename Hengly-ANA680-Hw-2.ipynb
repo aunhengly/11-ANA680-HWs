{
 "cells": [
  {
   "cell_type": "markdown",
   "id": "b3620a89",
   "metadata": {},
   "source": [
    "# Assignment 2: \n",
    "# Create a Python Virtual Environment.\n",
    "\n",
    "Instructions:\n",
    "\n",
    "Use the breast cancer dataset (Breast_Cancer_Data.csv) that you worked with in the module 1 (https://archive.ics.uci.edu/ml/datasets/breast+cancer+wisconsin+(original), and then, complete the following tasks:\n",
    "\n",
    "1. Select the algorithm that produced the best result (accuracy), retrain the model using this algorithm with the top four relevant features and save the model as a pickle file.\n",
    "\n",
    "2. Create a python virtual environment and carry out all steps required to develop a Flask application for creating a CI/CD deployment of the breast cancer model using GitHub actions to Heroku server. Ensure all necessary files and folder are stored in your GitHub repository.\n",
    "    a) Write an index.html file to receive user input.\n",
    "    b) Create the app.py file that received user input, runs it through the model and displays the result.\n",
    "    c) Write a GitHub Actions .yaml file for the CI/CD.\n",
    "    d) Ensure exitance of Procfile and requirements file in the application folder.\n",
    "    e) Post application to Heroku.\n",
    "\n",
    "3. Submit the URL address of your ML project repository on GitHub. \n",
    "\n",
    "4. Submit the Heroku URL of your application.\n",
    "\n",
    "5. If your solution (application) is not working properly, submit all error logs and describe the actions you took to troubleshoot the error."
   ]
  },
  {
   "cell_type": "code",
   "execution_count": null,
   "id": "dfff4778",
   "metadata": {},
   "outputs": [],
   "source": []
  }
 ],
 "metadata": {
  "kernelspec": {
   "display_name": "Python 3 (ipykernel)",
   "language": "python",
   "name": "python3"
  },
  "language_info": {
   "codemirror_mode": {
    "name": "ipython",
    "version": 3
   },
   "file_extension": ".py",
   "mimetype": "text/x-python",
   "name": "python",
   "nbconvert_exporter": "python",
   "pygments_lexer": "ipython3",
   "version": "3.10.9"
  }
 },
 "nbformat": 4,
 "nbformat_minor": 5
}
