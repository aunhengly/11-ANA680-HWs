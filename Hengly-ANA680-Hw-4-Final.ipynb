{
 "cells": [
  {
   "cell_type": "markdown",
   "id": "cbfcbbf0",
   "metadata": {},
   "source": [
    "# Final Project\n",
    "\n",
    "Instructions:\n",
    "\n",
    "In this project, you will implement the stack of technologies you learned throughout this course. The project has multiple parts. You must create a new GitHub repository for this project. Complete each part and ensure all artifacts are accessible to your instructor on GitHub.\n",
    "\n",
    "    1-Define the problem you are trying to solve and why machine learning will provide the best solution for this problem. Identify the dataset you plan to use for this project and its location.\n",
    "\n",
    "    2-Perform data exploration, data cleaning, feature engineering and selection on Jupyter Notebook or Google Colab.\n",
    "\n",
    "    3-Split data into testing, training, and validation; select training algorithm(s) and metrics to train the model and evaluate its performance. Save the project as ipynb and. pkl in GitHub.\n",
    "\n",
    "    4-Deploy the model on a local machine using FLASK.\n",
    "    \n",
    "    5-Turn the model in step 4 into a container and push it to your Docker Hub.\n",
    "\n",
    "    6-Create a CI/CD pipeline for this project and deploy it on Heroku. Ensure all the necessary files are in GitHub.\n",
    "\n",
    "    7-Redo the project on AWS EC2 using containers. Provide screenshots \n",
    "    \n",
    "    8-Deploy your model using SageMaker notebook. Provide screenshots"
   ]
  },
  {
   "cell_type": "code",
   "execution_count": null,
   "id": "be49332e",
   "metadata": {},
   "outputs": [],
   "source": []
  }
 ],
 "metadata": {
  "kernelspec": {
   "display_name": "Python 3 (ipykernel)",
   "language": "python",
   "name": "python3"
  },
  "language_info": {
   "codemirror_mode": {
    "name": "ipython",
    "version": 3
   },
   "file_extension": ".py",
   "mimetype": "text/x-python",
   "name": "python",
   "nbconvert_exporter": "python",
   "pygments_lexer": "ipython3",
   "version": "3.10.9"
  }
 },
 "nbformat": 4,
 "nbformat_minor": 5
}
