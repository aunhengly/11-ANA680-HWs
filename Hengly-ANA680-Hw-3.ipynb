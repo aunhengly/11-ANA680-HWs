{
 "cells": [
  {
   "cell_type": "markdown",
   "id": "fb013863",
   "metadata": {},
   "source": [
    "# Assignment 3:\n",
    "# Build, Train, Test, and Deploy ML Project on AWS Cloud\n",
    "\n",
    "Instructions\n",
    "\n",
    "The assignment for this week has two main objectives: \n",
    "1) to reinforce understanding and application of container technology; and \n",
    "2) to build, train, test, and deploy ML projects on the AWS cloud using Amazon EC2 with and without container technology. Only select between 3 - 5 top features for classification.\n",
    "\n",
    "1. This assignment uses the Wine Quality Dataset at the UCI repository:  https://archive.ics.uci.edu/ml/datasets/wine+quality. The model will predict the wine quality, which has a score between 0 and 10 from the 11 given features:\n",
    "\n",
    "   1 - fixed acidity\n",
    "   2 - volatile acidity\n",
    "   3 - citric acid\n",
    "   4 - residual sugar\n",
    "   5 - chlorides\n",
    "   6 - free sulfur dioxide\n",
    "   7 - total sulfur dioxide\n",
    "   8 - density\n",
    "   9 - pH\n",
    "   10 - sulfates\n",
    "   11 - alcohol  \n",
    "\n",
    "Build the model for predicting the wine quality. Containerize the model and deploy it on Heroku.\n",
    "\n",
    "2. Deploy the containerized model in problem 1 on the AWS EC2. "
   ]
  }
 ],
 "metadata": {
  "kernelspec": {
   "display_name": "Python 3 (ipykernel)",
   "language": "python",
   "name": "python3"
  },
  "language_info": {
   "codemirror_mode": {
    "name": "ipython",
    "version": 3
   },
   "file_extension": ".py",
   "mimetype": "text/x-python",
   "name": "python",
   "nbconvert_exporter": "python",
   "pygments_lexer": "ipython3",
   "version": "3.10.9"
  }
 },
 "nbformat": 4,
 "nbformat_minor": 5
}
