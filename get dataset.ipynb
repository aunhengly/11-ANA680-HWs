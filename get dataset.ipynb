{
 "cells": [
  {
   "cell_type": "code",
   "execution_count": 1,
   "id": "02dd26d6",
   "metadata": {},
   "outputs": [
    {
     "name": "stdout",
     "output_type": "stream",
     "text": [
      "Requirement already satisfied: ucimlrepo in /Users/henglyaun/anaconda3/lib/python3.10/site-packages (0.0.3)\n",
      "Note: you may need to restart the kernel to use updated packages.\n"
     ]
    }
   ],
   "source": [
    "pip install ucimlrepo"
   ]
  },
  {
   "cell_type": "code",
   "execution_count": 2,
   "id": "4d5bae98",
   "metadata": {},
   "outputs": [],
   "source": [
    "from ucimlrepo import fetch_ucirepo "
   ]
  },
  {
   "cell_type": "code",
   "execution_count": 9,
   "id": "be38d63f",
   "metadata": {},
   "outputs": [
    {
     "name": "stdout",
     "output_type": "stream",
     "text": [
      "Requirement already satisfied: ucimlrepo in /Users/henglyaun/anaconda3/lib/python3.10/site-packages (0.0.3)\n",
      "Note: you may need to restart the kernel to use updated packages.\n"
     ]
    }
   ],
   "source": [
    "pip install --upgrade ucimlrepo"
   ]
  },
  {
   "cell_type": "code",
   "execution_count": 10,
   "id": "ca596770",
   "metadata": {},
   "outputs": [],
   "source": [
    "import pandas as pd\n",
    "\n",
    "# Download the dataset from the UCR website\n",
    "url = 'https://archive.ics.uci.edu/ml/machine-learning-databases/breast-cancer-wisconsin/breast-cancer-wisconsin.data'\n",
    "df = pd.read_csv(url)\n",
    "\n",
    "# Save the dataset to a CSV file\n",
    "df.to_csv('breast_cancer_wisconsin_original_full.csv', index=False)\n"
   ]
  },
  {
   "cell_type": "code",
   "execution_count": 8,
   "id": "84848ea4",
   "metadata": {
    "collapsed": true
   },
   "outputs": [
    {
     "ename": "TypeError",
     "evalue": "'NoneType' object is not callable",
     "output_type": "error",
     "traceback": [
      "\u001b[0;31m---------------------------------------------------------------------------\u001b[0m",
      "\u001b[0;31mTypeError\u001b[0m                                 Traceback (most recent call last)",
      "Cell \u001b[0;32mIn[8], line 14\u001b[0m\n\u001b[1;32m     11\u001b[0m \u001b[38;5;66;03m# Check if the dataset was fetched successfully\u001b[39;00m\n\u001b[1;32m     12\u001b[0m \u001b[38;5;28;01mif\u001b[39;00m breast_cancer_wisconsin_original \u001b[38;5;129;01mis\u001b[39;00m \u001b[38;5;129;01mnot\u001b[39;00m \u001b[38;5;28;01mNone\u001b[39;00m:\n\u001b[1;32m     13\u001b[0m     \u001b[38;5;66;03m# Save the full dataset to a CSV file\u001b[39;00m\n\u001b[0;32m---> 14\u001b[0m     \u001b[43mbreast_cancer_wisconsin_original\u001b[49m\u001b[38;5;241;43m.\u001b[39;49m\u001b[43mdata\u001b[49m\u001b[38;5;241;43m.\u001b[39;49m\u001b[43mto_csv\u001b[49m\u001b[43m(\u001b[49m\u001b[38;5;124;43m'\u001b[39;49m\u001b[38;5;124;43mbreast_cancer_wisconsin_original_full.csv\u001b[39;49m\u001b[38;5;124;43m'\u001b[39;49m\u001b[43m,\u001b[49m\u001b[43m \u001b[49m\u001b[43mindex\u001b[49m\u001b[38;5;241;43m=\u001b[39;49m\u001b[38;5;28;43;01mFalse\u001b[39;49;00m\u001b[43m)\u001b[49m\n\u001b[1;32m     15\u001b[0m \u001b[38;5;28;01melse\u001b[39;00m:\n\u001b[1;32m     16\u001b[0m     \u001b[38;5;28mprint\u001b[39m(\u001b[38;5;124m'\u001b[39m\u001b[38;5;124mError fetching dataset\u001b[39m\u001b[38;5;124m'\u001b[39m)\n",
      "\u001b[0;31mTypeError\u001b[0m: 'NoneType' object is not callable"
     ]
    }
   ],
   "source": [
    "import ucimlrepo\n",
    "import pandas as pd\n",
    "\n",
    "# Try to fetch the dataset\n",
    "try:\n",
    "    breast_cancer_wisconsin_original = fetch_ucirepo(id=15)\n",
    "except Exception as e:\n",
    "    print('Error fetching dataset:', e)\n",
    "    exit(1)\n",
    "\n",
    "# Check if the dataset was fetched successfully\n",
    "if breast_cancer_wisconsin_original is not None:\n",
    "    # Save the full dataset to a CSV file\n",
    "    breast_cancer_wisconsin_original.data.to_csv('breast_cancer_wisconsin_original_full.csv', index=False)\n",
    "else:\n",
    "    print('Error fetching dataset')\n"
   ]
  },
  {
   "cell_type": "code",
   "execution_count": null,
   "id": "5ecf1397",
   "metadata": {},
   "outputs": [],
   "source": []
  },
  {
   "cell_type": "code",
   "execution_count": 11,
   "id": "03d9dea1",
   "metadata": {},
   "outputs": [],
   "source": [
    "import ucimlrepo\n",
    "import pandas as pd\n",
    "\n",
    "# Fetch the Wisconsin Breast Cancer (Original) dataset from the UCR\n",
    "breast_cancer_wisconsin_original = fetch_ucirepo(id=15)\n",
    "\n",
    "# Get the feature data\n",
    "X = breast_cancer_wisconsin_original.data.features\n",
    "\n",
    "# Get the target data (label)\n",
    "y = breast_cancer_wisconsin_original.data.targets\n",
    "\n",
    "# Get the column names\n",
    "column_names = list(X.columns)\n",
    "\n",
    "# Add the label column to the column names\n",
    "column_names.append('label')\n",
    "\n",
    "# Create a new Pandas DataFrame with the column names\n",
    "df = pd.DataFrame(columns=column_names)\n",
    "\n",
    "# Add the feature data to the DataFrame\n",
    "df[column_names[:-1]] = X\n",
    "\n",
    "# Add the target data to the DataFrame\n",
    "df['label'] = y\n",
    "\n",
    "# Save the dataset to a CSV file\n",
    "df.to_csv('breast_cancer_wisconsin_original_full_with_label.csv', index=False)\n"
   ]
  }
 ],
 "metadata": {
  "kernelspec": {
   "display_name": "Python 3 (ipykernel)",
   "language": "python",
   "name": "python3"
  },
  "language_info": {
   "codemirror_mode": {
    "name": "ipython",
    "version": 3
   },
   "file_extension": ".py",
   "mimetype": "text/x-python",
   "name": "python",
   "nbconvert_exporter": "python",
   "pygments_lexer": "ipython3",
   "version": "3.10.9"
  }
 },
 "nbformat": 4,
 "nbformat_minor": 5
}
